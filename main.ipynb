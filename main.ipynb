{
 "cells": [
  {
   "cell_type": "code",
   "execution_count": 1,
   "metadata": {},
   "outputs": [
    {
     "name": "stdout",
     "output_type": "stream",
     "text": [
      "pygame 2.5.2 (SDL 2.28.3, Python 3.11.7)\n",
      "Hello from the pygame community. https://www.pygame.org/contribute.html\n"
     ]
    }
   ],
   "source": [
    "import pygame as pg\n",
    "import numpy as np\n"
   ]
  },
  {
   "cell_type": "code",
   "execution_count": 2,
   "metadata": {},
   "outputs": [],
   "source": [
    "result = 'nan'\n",
    "move = 'khush'\n",
    "opp_move = 'Trivedi'"
   ]
  },
  {
   "cell_type": "code",
   "execution_count": 3,
   "metadata": {},
   "outputs": [],
   "source": [
    "def rock():\n",
    "    global move\n",
    "    move = 'Rock'\n",
    "    \n",
    "def paper():\n",
    "    global move\n",
    "    move = 'Paper'\n",
    "\n",
    "def scissor():\n",
    "    global move\n",
    "    move = 'Scissor'\n"
   ]
  },
  {
   "cell_type": "code",
   "execution_count": 4,
   "metadata": {},
   "outputs": [],
   "source": [
    "def opp_act():\n",
    "    global opp_move\n",
    "    a = np.random.randint(0,3,1)\n",
    "    if a  ==  0:\n",
    "        opp_move = 'Rock'\n",
    "    elif a == 1:\n",
    "        opp_move = 'Paper'\n",
    "    elif a ==2:\n",
    "        opp_move = 'Scissor'"
   ]
  },
  {
   "cell_type": "code",
   "execution_count": 5,
   "metadata": {},
   "outputs": [],
   "source": [
    "def game(move,opp_move):\n",
    "    print(move,opp_move)\n",
    "    global result\n",
    "    if move == 'Rock' and opp_move == 'Paper':\n",
    "        result = 'You lost'\n",
    "    elif move == 'Rock' and opp_move =='Scissor':\n",
    "        result ='You win'\n",
    "    elif move == 'Paper' and opp_move =='Scissor':\n",
    "        result ='You lost'\n",
    "    elif move == 'Paper' and opp_move =='Rock':\n",
    "        result ='You win'\n",
    "    elif move == 'Scissor' and opp_move =='Paper':\n",
    "        result ='You win'\n",
    "    elif move == 'Scissor' and opp_move =='Rock':\n",
    "        result ='You lost'\n",
    "    else :\n",
    "        result = 'tie'\n",
    " \n"
   ]
  },
  {
   "cell_type": "code",
   "execution_count": 6,
   "metadata": {},
   "outputs": [],
   "source": [
    "window = pg.display.set_mode((400,400))\n",
    "pg.font.init()\n",
    "font = pg.font.Font(r\"C:\\Users\\Khush Trivedi\\OneDrive\\Desktop\\Study folder (Do not open)\\Hacker\\Dex Project\\Minecraft.TTF\", 20)"
   ]
  },
  {
   "cell_type": "code",
   "execution_count": 7,
   "metadata": {},
   "outputs": [],
   "source": [
    "select_col = (152,255,125)\n",
    "bg_col = (152,255,125)\n",
    "font_col = '#4f42b5'"
   ]
  },
  {
   "cell_type": "code",
   "execution_count": 8,
   "metadata": {},
   "outputs": [],
   "source": [
    "rock_img = pg.image.load('UI_elements/rock.png').convert_alpha()\n",
    "paper_img = pg.image.load('UI_elements/paper.png').convert_alpha()\n",
    "scissor_img = pg.image.load('UI_elements/scissor.png').convert_alpha()\n",
    "happy_img = pg.image.load('UI_elements/happy.png')"
   ]
  },
  {
   "cell_type": "code",
   "execution_count": 9,
   "metadata": {},
   "outputs": [],
   "source": [
    "class Button():\n",
    "    def __init__(self,x,y,image,scale):\n",
    "        width = image.get_width()\n",
    "        height = image.get_height()\n",
    "        self.image = pg.transform.scale(image,(int(width*scale),int(height*scale)))\n",
    "        self.rect = self.image.get_rect()\n",
    "        self.rect.topleft = (x,y)\n",
    "\n",
    "    def draw(self):\n",
    "        window.blit(self.image,(self.rect.x,self.rect.y))\n",
    "\n",
    "# rock_button = Button(100,200,rock_img,1)\n",
    "# scissor_button = Button(200,200,scissor_img,1)\n",
    "# paper_button = Button(300,200,paper_img,1)"
   ]
  },
  {
   "cell_type": "code",
   "execution_count": 10,
   "metadata": {},
   "outputs": [
    {
     "name": "stdout",
     "output_type": "stream",
     "text": [
      "Rock Paper\n",
      "You lost\n",
      "Paper Rock\n",
      "Scissor Rock\n",
      "Scissor Scissor\n",
      "Scissor Rock\n",
      "Scissor Scissor\n",
      "Scissor Rock\n"
     ]
    }
   ],
   "source": [
    "running = True\n",
    "line1 = font.render('Welcome to the game!', True , font_col)\n",
    "line2 = font.render('Press R , P or S to make your selection',True,font_col)\n",
    "while running:\n",
    "    # Check for events\n",
    "    for event in pg.event.get():\n",
    "        if event.type == pg.QUIT:\n",
    "            running = False\n",
    "        elif event.type == pg.KEYDOWN:\n",
    "            if event.key ==pg.K_r:\n",
    "                rock()\n",
    "                opp_act()\n",
    "                game(move,opp_move)\n",
    "                print(result)\n",
    "                line1 = font.render('Your opponent chose:', True , font_col)\n",
    "                line2 = font.render(result, True , font_col)\n",
    "                pg.draw.rect(window, select_col, pg.Rect(30, 30, 60, 60))\n",
    "            if event.key ==pg.K_p:\n",
    "                paper()\n",
    "                opp_act()\n",
    "                game(move,opp_move)\n",
    "                line1 = font.render('Your opponent chose:', True , font_col)\n",
    "                line2 = font.render(result, True , font_col)\n",
    "            if event.key ==pg.K_s:\n",
    "                scissor()\n",
    "                opp_act()\n",
    "                game(move,opp_move)\n",
    "                line1 = font.render('Your opponent chose:', True , font_col)\n",
    "                line2 = font.render(result, True , font_col)\n",
    "    \n",
    "    if opp_move == 'Rock':\n",
    "        img = rock_img\n",
    "    elif opp_move == 'Paper':\n",
    "        img = paper_img\n",
    "    elif opp_move =='Scissor':\n",
    "        img = scissor_img\n",
    "    else:\n",
    "        img = happy_img\n",
    "\n",
    "    window.fill(bg_col)\n",
    "\n",
    "    window.blit(paper_img,(168,250))\n",
    "    window.blit(rock_img,(68,250))\n",
    "    window.blit(scissor_img,(268,250))\n",
    "\n",
    "    r = font.render('\\'R\\'',True,font_col)\n",
    "    window.blit(r,(85,330))\n",
    "    p = font.render('\\'P\\'',True,font_col)\n",
    "    window.blit(p,(185,330))\n",
    "\n",
    "    s = font.render('\\'S\\'',True,font_col)\n",
    "    window.blit(s,(285,330))\n",
    "\n",
    "    \n",
    "    window.blit(line1,(105,100))\n",
    "    window.blit(line2,(14,130))\n",
    "    window.blit(img,(330,60))\n",
    "    pg.display.flip()\n",
    "pg.quit()"
   ]
  }
 ],
 "metadata": {
  "kernelspec": {
   "display_name": "Python 3",
   "language": "python",
   "name": "python3"
  },
  "language_info": {
   "codemirror_mode": {
    "name": "ipython",
    "version": 3
   },
   "file_extension": ".py",
   "mimetype": "text/x-python",
   "name": "python",
   "nbconvert_exporter": "python",
   "pygments_lexer": "ipython3",
   "version": "3.11.7"
  }
 },
 "nbformat": 4,
 "nbformat_minor": 2
}
